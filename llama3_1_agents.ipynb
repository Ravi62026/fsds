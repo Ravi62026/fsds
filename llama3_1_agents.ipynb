{
  "cells": [
    {
      "cell_type": "code",
      "execution_count": 1,
      "metadata": {
        "id": "Aw-wRtGlwItv"
      },
      "outputs": [],
      "source": [
        "from groq import Groq"
      ]
    },
    {
      "cell_type": "code",
      "execution_count": 2,
      "metadata": {
        "id": "CQmGyOIIwOcF"
      },
      "outputs": [],
      "source": [
        "groq_client = Groq(\n",
        "    api_key=\"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\",\n",
        ")"
      ]
    },
    {
      "cell_type": "markdown",
      "metadata": {
        "id": "t_hRzc_D4hfj"
      },
      "source": [
        "# https://console.groq.com/keys"
      ]
    },
    {
      "cell_type": "code",
      "execution_count": 3,
      "metadata": {
        "id": "j0krq53Cwrpy"
      },
      "outputs": [],
      "source": [
        "llama_70B = \"llama-3.1-70b-versatile\"\n",
        "llama_405B = \"llama-3.1-405b-reasoning\""
      ]
    },
    {
      "cell_type": "code",
      "execution_count": 4,
      "metadata": {
        "colab": {
          "base_uri": "https://localhost:8080/"
        },
        "id": "c16s0D-lwZ5W",
        "outputId": "dc375455-506f-44f4-d630-c56c30d11f45"
      },
      "outputs": [
        {
          "name": "stdout",
          "output_type": "stream",
          "text": [
            "Blockchain is a distributed digital ledger technology that allows multiple parties to record and verify transactions without the need for a central authority. It's the underlying technology behind cryptocurrencies like Bitcoin and Ethereum, but its applications extend far beyond digital currency.\n",
            "\n",
            "Here's a simplified explanation of how blockchain works:\n",
            "\n",
            "**Key components:**\n",
            "\n",
            "1. **Decentralized network**: A network of computers (nodes) that work together to validate and record transactions.\n",
            "2. **Blocks**: A collection of transactions, such as \"Person A sent 10 units to Person B.\"\n",
            "3. **Chain**: A sequence of blocks, each linked to the previous one through a unique code called a \"hash.\"\n",
            "4. **Cryptography**: Advanced mathematical algorithms that secure the transactions and control the creation of new blocks.\n",
            "\n",
            "**How it works:**\n",
            "\n",
            "1. **Transaction occurs**: A user initiates a transaction, such as sending cryptocurrency or data.\n",
            "2. **Transaction is verified**: The transaction is broadcast to the network, where nodes verify its validity using complex algorithms.\n",
            "3. **Block creation**: A group of verified transactions is collected into a block.\n",
            "4. **Block is added to the chain**: Each node on the network updates its copy of the blockchain by adding the new block to the chain.\n",
            "5. **Chain is updated**: Each node on the network has a copy of the blockchain, which is updated in real-time as new blocks are added.\n",
            "\n",
            "**Blockchain characteristics:**\n",
            "\n",
            "1. **Immutable**: The blockchain is a permanent, unalterable record of all transactions.\n",
            "2. **Transparent**: All transactions are publicly visible, and anyone can track the entire history of the blockchain.\n",
            "3. **Secure**: The use of cryptography and a decentralized network makes it extremely difficult to manipulate or alter the blockchain.\n",
            "4. **Consensus**: The network of nodes must agree on the validity of transactions and the state of the blockchain.\n",
            "\n",
            "**Blockchain applications:**\n",
            "\n",
            "1. **Cryptocurrencies**: Bitcoin, Ethereum, and other digital currencies use blockchain technology.\n",
            "2. **Supply chain management**: Companies like Walmart and Maersk use blockchain to track inventory and shipping.\n",
            "3. **Smart contracts**: Self-executing contracts with the terms of the agreement written directly into lines of code.\n",
            "4. **Identity verification**: Secure digital identities can be created and managed using blockchain technology.\n",
            "5. **Healthcare**: Blockchain can be used to securely store and manage medical records.\n",
            "\n",
            "In summary, blockchain is a powerful technology that enables secure, transparent, and decentralized data management, with a wide range of applications beyond cryptocurrency.\n"
          ]
        }
      ],
      "source": [
        "chat_completion = groq_client.chat.completions.create(\n",
        "    messages=[\n",
        "        {\n",
        "            \"role\": \"user\",\n",
        "            \"content\": \"What is blockchain ?\",\n",
        "        }\n",
        "    ],\n",
        "    model=llama_70B,\n",
        ")\n",
        "\n",
        "print(chat_completion.choices[0].message.content)"
      ]
    },
    {
      "cell_type": "code",
      "execution_count": 5,
      "metadata": {
        "id": "772fa1Sxx1u2"
      },
      "outputs": [],
      "source": [
        "from together import Together"
      ]
    },
    {
      "cell_type": "markdown",
      "metadata": {
        "id": "2tYdR1ao4nOF"
      },
      "source": [
        "# https://api.together.ai/settings/api-keys"
      ]
    },
    {
      "cell_type": "code",
      "execution_count": 6,
      "metadata": {
        "id": "FcXxyIn2x2IP"
      },
      "outputs": [],
      "source": [
        "together_client = Together(api_key=\"189222cc64db591ffb84c1d12aeb90a290e5a4bc63aa7d5f5adf3d1f175568ee\")"
      ]
    },
    {
      "cell_type": "code",
      "execution_count": 7,
      "metadata": {
        "colab": {
          "base_uri": "https://localhost:8080/"
        },
        "id": "vL45Zzx0yU-M",
        "outputId": "59e46324-e6a5-4cc8-c501-37d4f88b17f1"
      },
      "outputs": [
        {
          "name": "stdout",
          "output_type": "stream",
          "text": [
            "Here's an in-depth overview of the basics of Machine Learning:\n",
            "\n",
            "**What is Machine Learning?**\n",
            "\n",
            "* Machine Learning (ML) is a subset of Artificial Intelligence (AI) that enables systems to learn from data and improve their performance on a task without being explicitly programmed.\n",
            "* ML involves training algorithms on data to make predictions, classify objects, or generate insights.\n",
            "\n",
            "**Types of Machine Learning:**\n",
            "\n",
            "* **Supervised Learning:**\n",
            "\t+ The algorithm is trained on labeled data to learn the relationship between input and output.\n",
            "\t+ Goal: Make predictions on new, unseen data.\n",
            "\t+ Examples: Image classification, sentiment analysis.\n",
            "* **Unsupervised Learning:**\n",
            "\t+ The algorithm is trained on unlabeled data to discover patterns or structure.\n",
            "\t+ Goal: Identify clusters, dimensions, or anomalies.\n",
            "\t+ Examples: Clustering, dimensionality reduction.\n",
            "* **Reinforcement Learning:**\n",
            "\t+ The algorithm learns by interacting with an environment and receiving rewards or penalties.\n",
            "\t+ Goal: Optimize a policy to maximize rewards.\n",
            "\t+ Examples: Robotics, game playing.\n",
            "\n",
            "**Machine Learning Workflow:**\n",
            "\n",
            "1. **Data Collection:**\n",
            "\t* Gather relevant data from various sources.\n",
            "\t* Ensure data quality and preprocess if necessary.\n",
            "2. **Data Preprocessing:**\n",
            "\t* Clean, transform, and normalize data.\n",
            "\t* Handle missing values and outliers.\n",
            "3. **Model Selection:**\n",
            "\t* Choose a suitable algorithm based on the problem and data.\n",
            "\t* Consider factors like accuracy, interpretability, and computational resources.\n",
            "4. **Model Training:**\n",
            "\t* Train the algorithm on the prepared data.\n",
            "\t* Tune hyperparameters to optimize performance.\n",
            "5. **Model Evaluation:**\n",
            "\t* Assess the model's performance using metrics like accuracy, precision, and recall.\n",
            "\t* Compare with baseline models or human performance.\n",
            "6. **Model Deployment:**\n",
            "\t* Integrate the trained model into a larger system or application.\n",
            "\t* Monitor performance and retrain as necessary.\n",
            "\n",
            "**Common Machine Learning Algorithms:**\n",
            "\n",
            "* **Linear Regression:**\n",
            "\t+ Predicts a continuous output variable using linear relationships.\n",
            "* **Decision Trees:**\n",
            "\t+ Classifies data by recursively partitioning the feature space.\n",
            "* **Random Forests:**\n",
            "\t+ Combines multiple decision trees to improve accuracy and robustness.\n",
            "* **Support Vector Machines (SVMs):**\n",
            "\t+ Finds the optimal hyperplane to separate classes in feature space.\n",
            "* **Neural Networks:**\n",
            "\t+ Composes multiple layers of interconnected nodes (neurons) to learn complex patterns.\n",
            "\n",
            "**Key Concepts:**\n",
            "\n",
            "* **Overfitting:**\n",
            "\t+ When a model is too complex and performs well on training data but poorly on new data.\n",
            "* **Underfitting:**\n",
            "\t+ When a model is too simple and fails to capture important patterns in the data.\n",
            "* **Bias-Variance Tradeoff:**\n",
            "\t+ The balance between model simplicity (bias) and complexity (variance).\n",
            "* **Regularization:**\n",
            "\t+ Techniques to prevent overfitting, such as L1 and L2 regularization.\n",
            "\n",
            "This is just a starting point, and there's much more to explore in the world of Machine Learning!\n"
          ]
        }
      ],
      "source": [
        "response = together_client.chat.completions.create(\n",
        "    model=\"meta-llama/Meta-Llama-3.1-405B-Instruct-Turbo\",\n",
        "    messages=[\n",
        "        {\n",
        "                \"role\": \"system\",\n",
        "                \"content\": \"you are a helpful assistant. always answer in short. use bullet points.\"\n",
        "        },\n",
        "        {\n",
        "                \"role\": \"user\",\n",
        "                \"content\": \"teach me the basics of Machine Learning. answer in deptht.\"\n",
        "        }\n",
        "],\n",
        "    max_tokens=699,\n",
        "    temperature=0.11,\n",
        "    top_p=1,\n",
        "    top_k=50,\n",
        "    repetition_penalty=1,\n",
        "    stop=[\"<|eot_id|>\"],\n",
        "    # stream=True\n",
        ")\n",
        "print(response.choices[0].message.content)"
      ]
    },
    {
      "cell_type": "code",
      "execution_count": 8,
      "metadata": {
        "id": "bz62Mg0E2zEc"
      },
      "outputs": [],
      "source": [
        "def get_user_input():\n",
        "  user_input = input(\"Please enter the industry or company you want to target: \")\n",
        "  return user_input"
      ]
    },
    {
      "cell_type": "code",
      "execution_count": 9,
      "metadata": {
        "id": "TjQrhWpK3sjs"
      },
      "outputs": [],
      "source": [
        "from openai import OpenAI"
      ]
    },
    {
      "cell_type": "code",
      "execution_count": 10,
      "metadata": {
        "id": "IGPicFt63xcO"
      },
      "outputs": [],
      "source": [
        "openai_client = OpenAI(\n",
        "    api_key=\"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\",\n",
        "    base_url=\"https://api.perplexity.ai\"\n",
        ")"
      ]
    },
    {
      "cell_type": "code",
      "execution_count": 11,
      "metadata": {
        "id": "fwuYglkswO48"
      },
      "outputs": [],
      "source": [
        "import os\n",
        "import openai\n",
        "from openai import OpenAI\n",
        "\n",
        "openai_client_together = OpenAI(\n",
        "  api_key=\"189222cc64db591ffb84c1d12aeb90a290e5a4bc63aa7d5f5adf3d1f175568ee\",\n",
        "  base_url=\"https://api.together.xyz/v1\",\n",
        ")"
      ]
    },
    {
      "cell_type": "code",
      "execution_count": 12,
      "metadata": {
        "colab": {
          "base_uri": "https://localhost:8080/"
        },
        "id": "7S15p89d4RyK",
        "outputId": "828bd280-08b9-4cb8-fad7-abf06eb093fb"
      },
      "outputs": [
        {
          "name": "stdout",
          "output_type": "stream",
          "text": [
            "Imagine a digital ledger, like a giant spreadsheet, that's shared among many computers. This ledger records transactions in a secure and transparent way. That's essentially what a blockchain is.\n",
            "\n",
            "Here's a breakdown:\n",
            "\n",
            "**Key Features:**\n",
            "\n",
            "* **Decentralized:** No single entity controls the blockchain. It's distributed across a network of computers, making it resistant to censorship and single points of failure.\n",
            "* **Immutable:** Once a transaction is recorded on the blockchain, it cannot be altered or deleted. This ensures data integrity and trust.\n",
            "* **Transparent:** All transactions are publicly viewable on the blockchain, promoting accountability and traceability.\n",
            "* **Secure:** Cryptography is used to secure transactions and protect the blockchain from tampering.\n",
            "\n",
            "**How it Works:**\n",
            "\n",
            "1. **Transaction:** When a transaction occurs (e.g., sending cryptocurrency), it's broadcast to the network.\n",
            "2. **Verification:** Computers on the network (called nodes) verify the transaction using complex algorithms.\n",
            "3. **Block Creation:** Verified transactions are grouped together into a \"block.\"\n",
            "4. **Chain Formation:** Each new block is linked to the previous block, creating a chronological chain of blocks. This chain is the blockchain.\n",
            "\n",
            "**Uses of Blockchain:**\n",
            "\n",
            "* **Cryptocurrencies:** Bitcoin and other cryptocurrencies use blockchain to record transactions and manage the supply of coins.\n",
            "* **Supply Chain Management:** Tracking products from origin to consumer, ensuring authenticity and transparency.\n",
            "* **Voting Systems:** Secure and tamper-proof voting platforms.\n",
            "* **Healthcare:** Securely storing and sharing medical records.\n",
            "* **Digital Identity:** Creating verifiable digital identities.\n",
            "\n",
            "**Think of it like a public record book that everyone can see and trust, but no one can erase or change.**\n"
          ]
        }
      ],
      "source": [
        "# chat completion without streaming\n",
        "response = openai_client_together.chat.completions.create(\n",
        "    model=\"google/gemma-2-27b-it\",\n",
        "    messages=[\n",
        "    {\"role\": \"system\", \"content\": \"You are an AI assistnat.\"},\n",
        "    {\"role\": \"user\", \"content\": \"What is blockchain ?\"}\n",
        "    ],\n",
        ")\n",
        "print(response.choices[0].message.content)"
      ]
    },
    {
      "cell_type": "code",
      "execution_count": 13,
      "metadata": {
        "colab": {
          "base_uri": "https://localhost:8080/"
        },
        "id": "4uNAIhcHxNQ3",
        "outputId": "7e241a6c-6a00-4a33-fead-c4de7bb73fda"
      },
      "outputs": [
        {
          "name": "stdout",
          "output_type": "stream",
          "text": [
            "Blockchain is a decentralized, digital ledger that records transactions across a network of computers in a secure and transparent manner. It's the underlying technology behind cryptocurrencies like Bitcoin and Ethereum, but its applications extend far beyond digital currency.\n",
            "\n",
            "Here's a simplified explanation:\n",
            "\n",
            "**Key components:**\n",
            "\n",
            "1. **Decentralized network:** A network of computers (nodes) that work together to validate and record transactions.\n",
            "2. **Digital ledger:** A shared, digital record book (blockchain) that stores all transactions made on the network.\n",
            "3. **Blocks:** A group of transactions bundled together and added to the blockchain.\n",
            "4. **Cryptography:** Advanced mathematical algorithms that secure and verify transactions.\n",
            "\n",
            "**How it works:**\n",
            "\n",
            "1. A new transaction is made on the network.\n",
            "2. The transaction is broadcast to the network of nodes.\n",
            "3. Nodes verify the transaction using complex algorithms and cryptography.\n",
            "4. Once verified, the transaction is combined with other transactions in a batch called a block.\n",
            "5. Each block is given a unique code, called a \"hash,\" that connects it to the previous block, creating a permanent and unalterable chain (blockchain).\n",
            "6. The updated blockchain is distributed across the network, ensuring that every node has the same version of the blockchain.\n",
            "\n",
            "**Blockchain benefits:**\n",
            "\n",
            "1. **Security:** Transactions are secure, tamper-proof, and transparent.\n",
            "2. **Immutable:** The blockchain is an immutable record, meaning that once a transaction is recorded, it cannot be altered or deleted.\n",
            "3. **Decentralized:** No single entity controls the network, making it resistant to censorship and manipulation.\n",
            "4. **Consensus:** Nodes on the network agree on the state of the blockchain, ensuring that everyone has the same version.\n",
            "\n",
            "**Blockchain applications:**\n",
            "\n",
            "1. **Cryptocurrencies:** Bitcoin, Ethereum, and other digital currencies.\n",
            "2. **Supply chain management:** Tracking goods and inventory in real-time.\n",
            "3. **Smart contracts:** Self-executing contracts with the terms of the agreement written directly into code.\n",
            "4. **Identity verification:** Secure and decentralized identity management.\n",
            "5. **Healthcare:** Secure storage and sharing of medical records.\n",
            "\n",
            "In summary, blockchain is a powerful technology that enables secure, transparent, and decentralized data management, with a wide range of applications beyond digital currency.\n"
          ]
        }
      ],
      "source": [
        "# chat completion without streaming\n",
        "response = openai_client_together.chat.completions.create(\n",
        "    model=\"meta-llama/Meta-Llama-3.1-405B-Instruct-Turbo\",\n",
        "    messages=[\n",
        "    {\"role\": \"system\", \"content\": \"You are an AI assistnat.\"},\n",
        "    {\"role\": \"user\", \"content\": \"What is blockchain ?\"}\n",
        "    ],\n",
        ")\n",
        "print(response.choices[0].message.content)"
      ]
    },
    {
      "cell_type": "code",
      "execution_count": 14,
      "metadata": {
        "id": "Rgi9M1Y68DtB"
      },
      "outputs": [],
      "source": [
        "def query_agent(target):\n",
        "    response = together_client.chat.completions.create(\n",
        "        model=\"meta-llama/Meta-Llama-3.1-405B-Instruct-Turbo\",\n",
        "        messages=[\n",
        "            {\n",
        "                \"role\": \"system\",\n",
        "                \"content\": \"\"\"You are an AI assistant that writes concise search queries for market research.\n",
        "                Create 4 short search queries based on the given target industry or company.\n",
        "                Query 01: biggest pain points faced by this avatar\n",
        "                Query 02: biggest companies in this industry\n",
        "                Query 03: how companies in this industry get clients\n",
        "                Query 04: where to find companeis in this industry online\n",
        "                IMPORTANT: Respond with only the queries, one per line.\"\"\"\n",
        "            },\n",
        "            {\n",
        "                \"role\": \"user\",\n",
        "                \"content\": f\"Here's the industry / company to perform market research on: #### {target} ####\"\n",
        "            }\n",
        "        ],\n",
        "        max_tokens=256,\n",
        "        temperature=0.7,\n",
        "        top_p=1,\n",
        "        top_k=50,\n",
        "        repetition_penalty=1,\n",
        "        stop=[\"<|eot_id|>\"]\n",
        "    )\n",
        "    queries = response.choices[0].message.content.split('\\n')\n",
        "    return [query.strip() for query in queries if query.strip()]"
      ]
    },
    {
      "cell_type": "code",
      "execution_count": null,
      "metadata": {},
      "outputs": [],
      "source": [
        "def query_agent_legal(target):\n",
        "    response = together_client.chat.completions.create(\n",
        "        model=\"meta-llama/Meta-Llama-3.1-405B-Instruct-Turbo\",\n",
        "        messages=[\n",
        "            {\n",
        "                \"role\": \"system\",\n",
        "                \"content\": \"\"\"You are an AI assistant that writes concise search queries for legal research.\n",
        "                Create 4 short search queries based on the given target related to the Indian judiciary system.\n",
        "                Query 01: biggest legal challenges faced by this target\n",
        "                Query 02: most influential legal advisors in the Indian judiciary\n",
        "                Query 03: how legal advisors in the Indian judiciary attract clients\n",
        "                Query 04: where to find legal advisors in the Indian judiciary online\n",
        "                IMPORTANT: Respond with only the queries, one per line.\"\"\"\n",
        "            },\n",
        "            {\n",
        "                \"role\": \"user\",\n",
        "                \"content\": f\"Here's the target for legal research: #### {target} ####\"\n",
        "            }\n",
        "        ],\n",
        "        max_tokens=256,\n",
        "        temperature=0.7,\n",
        "        top_p=1,\n",
        "        top_k=50,\n",
        "        repetition_penalty=1,\n",
        "        stop=[\"\"]\n",
        "    )\n",
        "    queries = response.choices[0].message.content.split('\\n')\n",
        "    return [query.strip() for query in queries if query.strip()]\n"
      ]
    },
    {
      "cell_type": "code",
      "execution_count": 15,
      "metadata": {
        "colab": {
          "base_uri": "https://localhost:8080/"
        },
        "id": "OD9dhiMO8EfH",
        "outputId": "1ade8202-5b6c-4a23-8bc7-302913ae043b"
      },
      "outputs": [
        {
          "data": {
            "text/plain": [
              "['sda role in google pain points',\n",
              " 'top companies with sda roles like google',\n",
              " 'google sda client acquisition strategies',\n",
              " 'sda companies like google on linkedin']"
            ]
          },
          "execution_count": 15,
          "metadata": {},
          "output_type": "execute_result"
        }
      ],
      "source": [
        "generated_queries = query_agent(get_user_input())\n",
        "generated_queries"
      ]
    },
    {
      "cell_type": "code",
      "execution_count": 16,
      "metadata": {
        "id": "XTxeasLzAPQH"
      },
      "outputs": [],
      "source": [
        "def web_search_agent(query):\n",
        "    response = openai_client_together.chat.completions.create(\n",
        "        model=\"meta-llama/Meta-Llama-3.1-405B-Instruct-Turbo\",\n",
        "        messages=[\n",
        "            {\"role\": \"system\", \"content\": \"You are a web search assistant. Provide a concise summary of the search results.\"},\n",
        "            {\"role\": \"user\", \"content\": f\"Search the web for: {query}\"}\n",
        "        ],\n",
        "    )\n",
        "    return response.choices[0].message.content"
      ]
    },
    {
      "cell_type": "code",
      "execution_count": 17,
      "metadata": {
        "colab": {
          "base_uri": "https://localhost:8080/"
        },
        "id": "29wA8wooAORh",
        "outputId": "6195a67f-f515-49a9-db58-d2c78660632b"
      },
      "outputs": [
        {
          "name": "stdout",
          "output_type": "stream",
          "text": [
            "Searching for... sda role in google pain points\n",
            "Searching for... top companies with sda roles like google\n",
            "Searching for... google sda client acquisition strategies\n",
            "Searching for... sda companies like google on linkedin\n"
          ]
        }
      ],
      "source": [
        "# Example usage\n",
        "search_results = []\n",
        "for query in generated_queries:\n",
        "    print(\"Searching for...\", query)\n",
        "    result = web_search_agent(query)\n",
        "    search_results.append(result)"
      ]
    },
    {
      "cell_type": "code",
      "execution_count": 18,
      "metadata": {
        "colab": {
          "base_uri": "https://localhost:8080/"
        },
        "id": "7rbWb4rGCSw9",
        "outputId": "6408b520-aa66-4b55-80a3-64690c34b050"
      },
      "outputs": [
        {
          "data": {
            "text/plain": [
              "[\"Based on the search results, here is a concise summary:\\n\\n**SDA Role in Google Pain Points:**\\n\\n* SDA (Software Development Associate) is an entry-level role at Google, and various online forums and reviews discuss the challenges and pain points associated with this position.\\n* Common pain points mentioned include:\\n\\t+ High expectations and workload, with some SDAs feeling overwhelmed by the volume of tasks and projects.\\n\\t+ Limited autonomy and decision-making power, as SDAs often work under close supervision.\\n\\t+ Steep learning curve, with SDAs needing to quickly adapt to Google's technology stack and development processes.\\n\\t+ Pressure to constantly learn and upskill, with some SDAs feeling that they are not given sufficient time or resources to develop their skills.\\n\\t+ Competition for promotion and career advancement, with some SDAs feeling that opportunities for growth are limited.\\n* Some online reviews and forums also mention the benefits of the SDA role, such as:\\n\\t+ Opportunities to work on high-impact projects and contribute to Google's innovative products and services.\\n\\t+ Collaborative and supportive team environment, with many SDAs praising their colleagues and managers.\\n\\t+ Access to cutting-edge technology and resources, with opportunities to learn from experienced engineers and industry experts.\\n\\nSources:\\n\\n* Glassdoor reviews\\n* Indeed reviews\\n* Reddit forums (r/google, r/cscareerquestions)\\n* Quora answers\\n* Blind (anonymous workplace review platform)\",\n",
              " \"Based on the search results, here is a concise summary:\\n\\n**Top companies with SDA (Software Development Associate) or similar roles:**\\n\\n1. **Amazon**: Offers a Software Development Engineer (SDE) role, similar to Google's SDA position.\\n2. **Microsoft**: Has a Software Engineer role that involves designing, developing, and testing software applications.\\n3. **Facebook**: Offers a Software Engineer role that involves building and maintaining software applications and systems.\\n4. **Palantir**: Has a Software Engineer role that involves designing and developing software applications for data analysis and integration.\\n5. **IBM**: Offers a Software Developer role that involves designing, developing, and testing software applications.\\n6. **Cisco Systems**: Has a Software Engineer role that involves designing, developing, and testing software applications for networking and cybersecurity.\\n7. **Oracle**: Offers a Software Developer role that involves designing, developing, and testing software applications for database management and enterprise software.\\n8. **Salesforce**: Has a Software Engineer role that involves designing, developing, and testing software applications for customer relationship management.\\n9. **VMware**: Offers a Software Engineer role that involves designing, developing, and testing software applications for virtualization and cloud computing.\\n10. **Intel**: Has a Software Engineer role that involves designing, developing, and testing software applications for computer hardware and semiconductor manufacturing.\\n\\nThese companies offer similar roles to Google's SDA position, involving software development, design, and testing. However, specific job responsibilities and requirements may vary.\",\n",
              " \"Based on the search results, here is a concise summary:\\n\\n**Google SDA (Service Delivery Agent) Client Acquisition Strategies**\\n\\nGoogle SDA is a program that enables partners to sell Google Cloud services to customers. To acquire clients, Google SDA partners can use the following strategies:\\n\\n1. **Develop a strong value proposition**: Clearly articulate the benefits of Google Cloud services and how they can solve customers' business problems.\\n2. **Identify and target key industries**: Focus on industries that are most likely to benefit from Google Cloud services, such as healthcare, finance, and retail.\\n3. **Build relationships with key decision-makers**: Establish relationships with C-level executives, IT directors, and other key decision-makers at potential client companies.\\n4. **Offer customized solutions**: Tailor Google Cloud services to meet the specific needs of each client, rather than offering a one-size-fits-all approach.\\n5. **Provide exceptional customer service**: Deliver high-quality support and service to clients to build trust and loyalty.\\n6. **Leverage Google's brand and resources**: Take advantage of Google's brand recognition and resources, such as marketing materials and training programs, to help acquire clients.\\n7. **Develop a robust sales strategy**: Establish a structured sales process, including lead generation, qualification, and conversion, to ensure a consistent flow of new clients.\\n8. **Utilize digital marketing channels**: Use online marketing channels, such as social media, email marketing, and content marketing, to reach potential clients and promote Google Cloud services.\\n\\nThese strategies can help Google SDA partners effectively acquire new clients and grow their business.\",\n",
              " 'Based on the search results, here is a concise summary:\\n\\n**Similar companies to Google on LinkedIn:**\\n\\n1. **Microsoft**: A multinational technology company with a strong presence in software, services, and devices.\\n2. **Amazon**: A multinational e-commerce and technology company with a focus on cloud computing, artificial intelligence, and more.\\n3. **Facebook**: A social media and technology company with a focus on online communities, advertising, and more.\\n4. **Apple**: A multinational technology company with a focus on consumer electronics, software, and services.\\n5. **IBM**: A multinational technology and consulting company with a focus on enterprise software, services, and more.\\n\\n**Other companies that may be of interest:**\\n\\n1. **Palantir**: A software company that specializes in data integration and analytics.\\n2. **Salesforce**: A cloud-based software company that specializes in customer relationship management (CRM).\\n3. **Alphabet\\'s subsidiaries**: Companies like Waymo (autonomous driving), Verily (life sciences), and Calico (biotechnology) may also be of interest.\\n\\n**Note:** The search results are based on LinkedIn\\'s \"Similar Companies\" feature, which uses algorithms to identify companies with similar characteristics, such as industry, size, and job functions.']"
            ]
          },
          "execution_count": 18,
          "metadata": {},
          "output_type": "execute_result"
        }
      ],
      "source": [
        "search_results"
      ]
    },
    {
      "cell_type": "code",
      "execution_count": 19,
      "metadata": {
        "colab": {
          "base_uri": "https://localhost:8080/"
        },
        "id": "D62scz7gyYMO",
        "outputId": "e53fe9cb-c14e-44c5-fc01-4939c32f3928"
      },
      "outputs": [
        {
          "name": "stdout",
          "output_type": "stream",
          "text": [
            "[\"Based on the search results, here is a concise summary:\\n\\n**SDA Role in Google Pain Points:**\\n\\n* SDA (Software Development Associate) is an entry-level role at Google, and various online forums and reviews discuss the challenges and pain points associated with this position.\\n* Common pain points mentioned include:\\n\\t+ High expectations and workload, with some SDAs feeling overwhelmed by the volume of tasks and projects.\\n\\t+ Limited autonomy and decision-making power, as SDAs often work under close supervision.\\n\\t+ Steep learning curve, with SDAs needing to quickly adapt to Google's technology stack and development processes.\\n\\t+ Pressure to constantly learn and upskill, with some SDAs feeling that they are not given sufficient time or resources to develop their skills.\\n\\t+ Competition for promotion and career advancement, with some SDAs feeling that opportunities for growth are limited.\\n* Some online reviews and forums also mention the benefits of the SDA role, such as:\\n\\t+ Opportunities to work on high-impact projects and contribute to Google's innovative products and services.\\n\\t+ Collaborative and supportive team environment, with many SDAs praising their colleagues and managers.\\n\\t+ Access to cutting-edge technology and resources, with opportunities to learn from experienced engineers and industry experts.\\n\\nSources:\\n\\n* Glassdoor reviews\\n* Indeed reviews\\n* Reddit forums (r/google, r/cscareerquestions)\\n* Quora answers\\n* Blind (anonymous workplace review platform)\", \"Based on the search results, here is a concise summary:\\n\\n**Top companies with SDA (Software Development Associate) or similar roles:**\\n\\n1. **Amazon**: Offers a Software Development Engineer (SDE) role, similar to Google's SDA position.\\n2. **Microsoft**: Has a Software Engineer role that involves designing, developing, and testing software applications.\\n3. **Facebook**: Offers a Software Engineer role that involves building and maintaining software applications and systems.\\n4. **Palantir**: Has a Software Engineer role that involves designing and developing software applications for data analysis and integration.\\n5. **IBM**: Offers a Software Developer role that involves designing, developing, and testing software applications.\\n6. **Cisco Systems**: Has a Software Engineer role that involves designing, developing, and testing software applications for networking and cybersecurity.\\n7. **Oracle**: Offers a Software Developer role that involves designing, developing, and testing software applications for database management and enterprise software.\\n8. **Salesforce**: Has a Software Engineer role that involves designing, developing, and testing software applications for customer relationship management.\\n9. **VMware**: Offers a Software Engineer role that involves designing, developing, and testing software applications for virtualization and cloud computing.\\n10. **Intel**: Has a Software Engineer role that involves designing, developing, and testing software applications for computer hardware and semiconductor manufacturing.\\n\\nThese companies offer similar roles to Google's SDA position, involving software development, design, and testing. However, specific job responsibilities and requirements may vary.\", \"Based on the search results, here is a concise summary:\\n\\n**Google SDA (Service Delivery Agent) Client Acquisition Strategies**\\n\\nGoogle SDA is a program that enables partners to sell Google Cloud services to customers. To acquire clients, Google SDA partners can use the following strategies:\\n\\n1. **Develop a strong value proposition**: Clearly articulate the benefits of Google Cloud services and how they can solve customers' business problems.\\n2. **Identify and target key industries**: Focus on industries that are most likely to benefit from Google Cloud services, such as healthcare, finance, and retail.\\n3. **Build relationships with key decision-makers**: Establish relationships with C-level executives, IT directors, and other key decision-makers at potential client companies.\\n4. **Offer customized solutions**: Tailor Google Cloud services to meet the specific needs of each client, rather than offering a one-size-fits-all approach.\\n5. **Provide exceptional customer service**: Deliver high-quality support and service to clients to build trust and loyalty.\\n6. **Leverage Google's brand and resources**: Take advantage of Google's brand recognition and resources, such as marketing materials and training programs, to help acquire clients.\\n7. **Develop a robust sales strategy**: Establish a structured sales process, including lead generation, qualification, and conversion, to ensure a consistent flow of new clients.\\n8. **Utilize digital marketing channels**: Use online marketing channels, such as social media, email marketing, and content marketing, to reach potential clients and promote Google Cloud services.\\n\\nThese strategies can help Google SDA partners effectively acquire new clients and grow their business.\", 'Based on the search results, here is a concise summary:\\n\\n**Similar companies to Google on LinkedIn:**\\n\\n1. **Microsoft**: A multinational technology company with a strong presence in software, services, and devices.\\n2. **Amazon**: A multinational e-commerce and technology company with a focus on cloud computing, artificial intelligence, and more.\\n3. **Facebook**: A social media and technology company with a focus on online communities, advertising, and more.\\n4. **Apple**: A multinational technology company with a focus on consumer electronics, software, and services.\\n5. **IBM**: A multinational technology and consulting company with a focus on enterprise software, services, and more.\\n\\n**Other companies that may be of interest:**\\n\\n1. **Palantir**: A software company that specializes in data integration and analytics.\\n2. **Salesforce**: A cloud-based software company that specializes in customer relationship management (CRM).\\n3. **Alphabet\\'s subsidiaries**: Companies like Waymo (autonomous driving), Verily (life sciences), and Calico (biotechnology) may also be of interest.\\n\\n**Note:** The search results are based on LinkedIn\\'s \"Similar Companies\" feature, which uses algorithms to identify companies with similar characteristics, such as industry, size, and job functions.']\n"
          ]
        }
      ],
      "source": [
        "print(search_results)"
      ]
    },
    {
      "cell_type": "code",
      "execution_count": 20,
      "metadata": {
        "id": "hpjmlPuHAtvE"
      },
      "outputs": [],
      "source": [
        "def cold_email_agent(target, search_results):\n",
        "    # Combine all search results into a single string\n",
        "    combined_results = \"\\n\".join(search_results)\n",
        "\n",
        "    response = together_client.chat.completions.create(\n",
        "        model=\"meta-llama/Meta-Llama-3.1-405B-Instruct-Turbo\",\n",
        "        messages=[\n",
        "            {\n",
        "                \"role\": \"system\",\n",
        "                \"content\": \"\"\"You are an expert cold email writer.\n",
        "                Your task is to write concise and personalized cold emails based on the Market Research given to you.\n",
        "                Make sure to utilize all 4 areas of the research I(pain points, companies, clients, and online sources)\n",
        "                Focus on describing what the target avatar will get, add an appealing guarantee.\n",
        "                Keep the email concise and use plain English.\n",
        "                DO NOT OUTPUT ANY OTHER TEXT !!! ONLY THE COLD EMAIL ITSELF!.\n",
        "                provide mail in 200 words\n",
        "                \"\"\"\n",
        "            },\n",
        "            {\n",
        "                \"role\": \"user\",\n",
        "                \"content\": f\"Here is the target avatar: {target} \\n Here is the market research: #### {combined_results} #### ONLY OUTPUT THE EMAIL ITSELF. NO OTHER TEXT!! and length of email is 200 words\"\n",
        "            }\n",
        "        ],\n",
        "        max_tokens=500,\n",
        "        temperature=0.1,\n",
        "        top_p=1,\n",
        "        top_k=50,\n",
        "        repetition_penalty=1,\n",
        "        stop=[\"<|eot_id|>\"]\n",
        "    )\n",
        "\n",
        "    return response.choices[0].message.content"
      ]
    },
    {
      "cell_type": "code",
      "execution_count": 21,
      "metadata": {
        "colab": {
          "base_uri": "https://localhost:8080/"
        },
        "id": "oNghIsz1Dhix",
        "outputId": "18bbba9d-623a-4ce9-d3a6-8755f1fdc5d3"
      },
      "outputs": [],
      "source": [
        "user_input = get_user_input()"
      ]
    },
    {
      "cell_type": "code",
      "execution_count": 22,
      "metadata": {
        "colab": {
          "base_uri": "https://localhost:8080/"
        },
        "id": "LdocS43EDsFq",
        "outputId": "58c3510c-136d-4ee0-bce8-4a63317eb719"
      },
      "outputs": [
        {
          "data": {
            "text/plain": [
              "['What are the biggest pain points faced by SDEs in MNC companies?',\n",
              " 'What are the biggest MNC companies that hire SDEs?',\n",
              " 'How do MNC companies recruit and hire SDEs?',\n",
              " 'Where to find MNC companies with SDE job openings online?']"
            ]
          },
          "execution_count": 22,
          "metadata": {},
          "output_type": "execute_result"
        }
      ],
      "source": [
        "generated_queries = query_agent(user_input)\n",
        "generated_queries"
      ]
    },
    {
      "cell_type": "code",
      "execution_count": 23,
      "metadata": {
        "colab": {
          "base_uri": "https://localhost:8080/"
        },
        "id": "g_qGjOjBD02Z",
        "outputId": "f6067234-9256-419c-c664-42459cb3180c"
      },
      "outputs": [
        {
          "name": "stdout",
          "output_type": "stream",
          "text": [
            "Searching for... What are the biggest pain points faced by SDEs in MNC companies?\n",
            "Searching for... What are the biggest MNC companies that hire SDEs?\n",
            "Searching for... How do MNC companies recruit and hire SDEs?\n",
            "Searching for... Where to find MNC companies with SDE job openings online?\n"
          ]
        }
      ],
      "source": [
        "# Example usage\n",
        "search_results = []\n",
        "for query in generated_queries:\n",
        "    print(\"Searching for...\", query)\n",
        "    result = web_search_agent(query)\n",
        "    search_results.append(result)"
      ]
    },
    {
      "cell_type": "code",
      "execution_count": 24,
      "metadata": {
        "colab": {
          "base_uri": "https://localhost:8080/"
        },
        "id": "bKlUtSZrDLv9",
        "outputId": "84f2b3ae-baed-4350-9e1d-56a2a3c938a7"
      },
      "outputs": [
        {
          "name": "stdout",
          "output_type": "stream",
          "text": [
            "Subject: Unlock Your Potential as an SDE in MNC Companies\n",
            "\n",
            "Dear [Name],\n",
            "\n",
            "As a Software Development Engineer (SDE) in a Multi-National Corporation (MNC) company, you're likely no stranger to the challenges of bureaucratic red tape, legacy code maintenance, and high expectations. But what if you could break free from these constraints and unlock your full potential?\n",
            "\n",
            "Our solution is designed specifically for SDEs like you, addressing the top pain points you face in your role. With our support, you'll gain:\n",
            "\n",
            "* Autonomy and ownership of your projects\n",
            "* Opportunities for career growth and professional development\n",
            "* Access to cutting-edge technologies and tools\n",
            "* Improved work-life balance and reduced stress\n",
            "\n",
            "We've worked with top MNC companies like Amazon, Microsoft, and Google to understand their recruitment processes and requirements. Our expertise will help you:\n",
            "\n",
            "* Build a strong online presence and personal brand\n",
            "* Develop a standout resume and cover letter\n",
            "* Prepare for common interview questions and coding challenges\n",
            "* Network with professionals in the field and gain insider knowledge\n",
            "\n",
            "Our guarantee: if you don't see an improvement in your job satisfaction and career prospects within 6 months, we'll refund your investment.\n",
            "\n",
            "Ready to take the first step? Reply to this email or schedule a call with us to discuss your goals and challenges.\n",
            "\n",
            "Best regards,\n",
            "[Your Name]\n"
          ]
        }
      ],
      "source": [
        "# Example usage\n",
        "cold_email = cold_email_agent(user_input, search_results)\n",
        "print(cold_email)"
      ]
    },
    {
      "cell_type": "code",
      "execution_count": 25,
      "metadata": {
        "id": "Q6SK8Wk_Exue"
      },
      "outputs": [
        {
          "name": "stdout",
          "output_type": "stream",
          "text": [
            "Subject: Unlock Your Potential as an SDE in MNC Companies\n",
            "\n",
            "Dear [Name],\n",
            "\n",
            "As a Software Development Engineer (SDE) in a Multi-National Corporation (MNC) company, you're likely no stranger to the challenges of bureaucratic red tape, legacy code maintenance, and high expectations. But what if you could break free from these constraints and unlock your full potential?\n",
            "\n",
            "Our solution is designed specifically for SDEs like you, addressing the top pain points you face in your role. With our support, you'll gain:\n",
            "\n",
            "* Autonomy and ownership of your projects\n",
            "* Opportunities for career growth and professional development\n",
            "* Access to cutting-edge technologies and tools\n",
            "* Improved work-life balance and reduced stress\n",
            "\n",
            "We've worked with top MNC companies like Amazon, Microsoft, and Google, and have helped numerous SDEs achieve their goals. Our approach is tailored to your unique needs and goals, ensuring you get the most out of our collaboration.\n",
            "\n",
            "I'd love to discuss how we can help you overcome your challenges and achieve success as an SDE. If you're interested, please reply to this email or schedule a call with me.\n",
            "\n",
            " Guarantee: If you don't see a significant improvement in your job satisfaction and productivity within 6 weeks, we'll refund your investment.\n",
            "\n",
            "Looking forward to hearing from you!\n",
            "\n",
            "Best regards,\n",
            "[Your Name]\n"
          ]
        }
      ],
      "source": [
        "# Example usage\n",
        "cold_email = cold_email_agent(user_input, search_results)\n",
        "print(cold_email)"
      ]
    },
    {
      "cell_type": "code",
      "execution_count": 2,
      "metadata": {},
      "outputs": [
        {
          "data": {
            "text/html": [
              "<pre style=\"white-space:pre;overflow-x:auto;line-height:normal;font-family:Menlo,'DejaVu Sans Mono',consolas,'Courier New',monospace\">                                       <span style=\"font-weight: bold\">❗❗❗ AUTHORIZATION REQUIRED ❗❗❗</span>                                        \n",
              "</pre>\n"
            ],
            "text/plain": [
              "                                       \u001b[1m❗❗❗ AUTHORIZATION REQUIRED ❗❗❗\u001b[0m                                        \n"
            ]
          },
          "metadata": {},
          "output_type": "display_data"
        },
        {
          "data": {
            "text/html": [
              "<pre style=\"white-space:pre;overflow-x:auto;line-height:normal;font-family:Menlo,'DejaVu Sans Mono',consolas,'Courier New',monospace\">c:\\Users\\ravi1\\OneDrive\\Desktop\\fsds\\env\\lib\\site-packages\\rich\\live.py:229: UserWarning: install \"ipywidgets\" for \n",
              "Jupyter support\n",
              "  warnings.warn('install \"ipywidgets\" for Jupyter support')\n",
              "</pre>\n"
            ],
            "text/plain": [
              "c:\\Users\\ravi1\\OneDrive\\Desktop\\fsds\\env\\lib\\site-packages\\rich\\live.py:229: UserWarning: install \"ipywidgets\" for \n",
              "Jupyter support\n",
              "  warnings.warn('install \"ipywidgets\" for Jupyter support')\n"
            ]
          },
          "metadata": {},
          "output_type": "display_data"
        },
        {
          "name": "stdout",
          "output_type": "stream",
          "text": [
            "\n",
            "\n",
            "Open the following link in your browser to authorize the client:\n",
            "https://dagshub.com/login/oauth/authorize?state=db2feec7-7f42-40e0-b838-728f16c8db76&client_id=32b60ba385aa7cecf24046d8195a71c07dd345d9657977863b52e7748e0f0f28&middleman_request_id=6570a30745a349ad56e828636ec8982827d70a34c07ddb4961b65703ea519bda\n",
            "\n",
            "\n"
          ]
        },
        {
          "data": {
            "text/html": [
              "<pre style=\"white-space:pre;overflow-x:auto;line-height:normal;font-family:Menlo,'DejaVu Sans Mono',consolas,'Courier New',monospace\"></pre>\n"
            ],
            "text/plain": []
          },
          "metadata": {},
          "output_type": "display_data"
        },
        {
          "data": {
            "text/html": [
              "<pre style=\"white-space:pre;overflow-x:auto;line-height:normal;font-family:Menlo,'DejaVu Sans Mono',consolas,'Courier New',monospace\">Accessing as rs1806105\n",
              "</pre>\n"
            ],
            "text/plain": [
              "Accessing as rs1806105\n"
            ]
          },
          "metadata": {},
          "output_type": "display_data"
        },
        {
          "data": {
            "text/html": [
              "<pre style=\"white-space:pre;overflow-x:auto;line-height:normal;font-family:Menlo,'DejaVu Sans Mono',consolas,'Courier New',monospace\">Initialized MLflow to track repo <span style=\"color: #008000; text-decoration-color: #008000\">\"rs1806105/fsds\"</span>\n",
              "</pre>\n"
            ],
            "text/plain": [
              "Initialized MLflow to track repo \u001b[32m\"rs1806105/fsds\"\u001b[0m\n"
            ]
          },
          "metadata": {},
          "output_type": "display_data"
        },
        {
          "data": {
            "text/html": [
              "<pre style=\"white-space:pre;overflow-x:auto;line-height:normal;font-family:Menlo,'DejaVu Sans Mono',consolas,'Courier New',monospace\">Repository rs1806105/fsds initialized!\n",
              "</pre>\n"
            ],
            "text/plain": [
              "Repository rs1806105/fsds initialized!\n"
            ]
          },
          "metadata": {},
          "output_type": "display_data"
        },
        {
          "name": "stderr",
          "output_type": "stream",
          "text": [
            "2024/08/10 17:14:00 INFO mlflow.tracking._tracking_service.client: 🏃 View run tasteful-perch-961 at: https://dagshub.com/rs1806105/fsds.mlflow/#/experiments/0/runs/1c6ab114b0004fb09a85476209630eaa.\n",
            "2024/08/10 17:14:00 INFO mlflow.tracking._tracking_service.client: 🧪 View experiment at: https://dagshub.com/rs1806105/fsds.mlflow/#/experiments/0.\n"
          ]
        }
      ],
      "source": [
        "import dagshub\n",
        "dagshub.init(repo_owner='rs1806105', repo_name='fsds', mlflow=True)\n",
        "\n",
        "import mlflow\n",
        "with mlflow.start_run():\n",
        "  mlflow.log_param('parameter name', 'value')\n",
        "  mlflow.log_metric('metric name', 1)"
      ]
    },
    {
      "cell_type": "code",
      "execution_count": 3,
      "metadata": {},
      "outputs": [
        {
          "data": {
            "text/html": [
              "<pre style=\"white-space:pre;overflow-x:auto;line-height:normal;font-family:Menlo,'DejaVu Sans Mono',consolas,'Courier New',monospace\">Initialized MLflow to track repo <span style=\"color: #008000; text-decoration-color: #008000\">\"rs1806105/fsds\"</span>\n",
              "</pre>\n"
            ],
            "text/plain": [
              "Initialized MLflow to track repo \u001b[32m\"rs1806105/fsds\"\u001b[0m\n"
            ]
          },
          "metadata": {},
          "output_type": "display_data"
        },
        {
          "data": {
            "text/html": [
              "<pre style=\"white-space:pre;overflow-x:auto;line-height:normal;font-family:Menlo,'DejaVu Sans Mono',consolas,'Courier New',monospace\">Repository rs1806105/fsds initialized!\n",
              "</pre>\n"
            ],
            "text/plain": [
              "Repository rs1806105/fsds initialized!\n"
            ]
          },
          "metadata": {},
          "output_type": "display_data"
        },
        {
          "name": "stderr",
          "output_type": "stream",
          "text": [
            "2024/08/10 17:14:17 INFO mlflow.tracking._tracking_service.client: 🏃 View run entertaining-pug-769 at: https://dagshub.com/rs1806105/fsds.mlflow/#/experiments/0/runs/2c032f5f149e43529fe961284c7fbf29.\n",
            "2024/08/10 17:14:17 INFO mlflow.tracking._tracking_service.client: 🧪 View experiment at: https://dagshub.com/rs1806105/fsds.mlflow/#/experiments/0.\n"
          ]
        }
      ],
      "source": [
        "import dagshub\n",
        "dagshub.init(repo_owner='rs1806105', repo_name='fsds', mlflow=True)\n",
        "\n",
        "import mlflow\n",
        "with mlflow.start_run():\n",
        "  mlflow.log_param('parameter name', 'value')\n",
        "  mlflow.log_metric('metric name', 1)"
      ]
    },
    {
      "cell_type": "code",
      "execution_count": 4,
      "metadata": {},
      "outputs": [
        {
          "ename": "NameError",
          "evalue": "name 'X_test' is not defined",
          "output_type": "error",
          "traceback": [
            "\u001b[1;31m---------------------------------------------------------------------------\u001b[0m",
            "\u001b[1;31mNameError\u001b[0m                                 Traceback (most recent call last)",
            "Cell \u001b[1;32mIn[4], line 6\u001b[0m\n\u001b[0;32m      3\u001b[0m \u001b[38;5;28;01mfrom\u001b[39;00m \u001b[38;5;21;01mmlflow\u001b[39;00m\u001b[38;5;21;01m.\u001b[39;00m\u001b[38;5;21;01mmodels\u001b[39;00m\u001b[38;5;21;01m.\u001b[39;00m\u001b[38;5;21;01msignature\u001b[39;00m \u001b[38;5;28;01mimport\u001b[39;00m infer_signature\n\u001b[0;32m      5\u001b[0m \u001b[38;5;66;03m# Assuming 'model' is your trained model and 'X_test' is a sample input\u001b[39;00m\n\u001b[1;32m----> 6\u001b[0m signature \u001b[38;5;241m=\u001b[39m infer_signature(\u001b[43mX_test\u001b[49m, model\u001b[38;5;241m.\u001b[39mpredict(X_test))\n\u001b[0;32m      7\u001b[0m \u001b[38;5;28mprint\u001b[39m(\u001b[38;5;124m\"\u001b[39m\u001b[38;5;124msig\u001b[39m\u001b[38;5;124m\"\u001b[39m, signature)\n\u001b[0;32m      8\u001b[0m \u001b[38;5;28;01mwith\u001b[39;00m mlflow\u001b[38;5;241m.\u001b[39mstart_run():\n",
            "\u001b[1;31mNameError\u001b[0m: name 'X_test' is not defined"
          ]
        }
      ],
      "source": [
        "import mlflow\n",
        "import mlflow.sklearn\n",
        "from mlflow.models.signature import infer_signature\n",
        "\n",
        "# Assuming 'model' is your trained model and 'X_test' is a sample input\n",
        "signature = infer_signature(X_test, model.predict(X_test))\n",
        "print(\"sig\", signature)\n",
        "with mlflow.start_run():\n",
        "    mlflow.sklearn.log_model(model, \"model\", signature=signature)\n"
      ]
    },
    {
      "cell_type": "code",
      "execution_count": 1,
      "metadata": {},
      "outputs": [
        {
          "data": {
            "text/html": [
              "<pre style=\"white-space:pre;overflow-x:auto;line-height:normal;font-family:Menlo,'DejaVu Sans Mono',consolas,'Courier New',monospace\">Accessing as rs1806105\n",
              "</pre>\n"
            ],
            "text/plain": [
              "Accessing as rs1806105\n"
            ]
          },
          "metadata": {},
          "output_type": "display_data"
        },
        {
          "data": {
            "text/html": [
              "<pre style=\"white-space:pre;overflow-x:auto;line-height:normal;font-family:Menlo,'DejaVu Sans Mono',consolas,'Courier New',monospace\">Initialized MLflow to track repo <span style=\"color: #008000; text-decoration-color: #008000\">\"rs1806105/fsds\"</span>\n",
              "</pre>\n"
            ],
            "text/plain": [
              "Initialized MLflow to track repo \u001b[32m\"rs1806105/fsds\"\u001b[0m\n"
            ]
          },
          "metadata": {},
          "output_type": "display_data"
        },
        {
          "data": {
            "text/html": [
              "<pre style=\"white-space:pre;overflow-x:auto;line-height:normal;font-family:Menlo,'DejaVu Sans Mono',consolas,'Courier New',monospace\">Repository rs1806105/fsds initialized!\n",
              "</pre>\n"
            ],
            "text/plain": [
              "Repository rs1806105/fsds initialized!\n"
            ]
          },
          "metadata": {},
          "output_type": "display_data"
        }
      ],
      "source": [
        "import dagshub\n",
        "dagshub.init(repo_owner='rs1806105', repo_name='fsds', mlflow=True)"
      ]
    },
    {
      "cell_type": "code",
      "execution_count": 3,
      "metadata": {},
      "outputs": [
        {
          "name": "stdout",
          "output_type": "stream",
          "text": [
            "Requirement already satisfied: dagshub in c:\\users\\ravi1\\onedrive\\desktop\\fsds\\env\\lib\\site-packages (0.3.34)\n",
            "Requirement already satisfied: PyYAML>=5 in c:\\users\\ravi1\\onedrive\\desktop\\fsds\\env\\lib\\site-packages (from dagshub) (6.0.2)\n",
            "Requirement already satisfied: fusepy>=3 in c:\\users\\ravi1\\onedrive\\desktop\\fsds\\env\\lib\\site-packages (from dagshub) (3.0.1)\n",
            "Requirement already satisfied: appdirs>=1.4.4 in c:\\users\\ravi1\\onedrive\\desktop\\fsds\\env\\lib\\site-packages (from dagshub) (1.4.4)\n",
            "Requirement already satisfied: click>=8.0.4 in c:\\users\\ravi1\\onedrive\\desktop\\fsds\\env\\lib\\site-packages (from dagshub) (8.1.7)\n",
            "Requirement already satisfied: httpx~=0.23.0 in c:\\users\\ravi1\\onedrive\\desktop\\fsds\\env\\lib\\site-packages (from dagshub) (0.23.3)\n",
            "Requirement already satisfied: GitPython>=3.1.29 in c:\\users\\ravi1\\onedrive\\desktop\\fsds\\env\\lib\\site-packages (from dagshub) (3.1.43)\n",
            "Requirement already satisfied: rich~=13.1.0 in c:\\users\\ravi1\\onedrive\\desktop\\fsds\\env\\lib\\site-packages (from dagshub) (13.1.0)\n",
            "Requirement already satisfied: dacite~=1.6.0 in c:\\users\\ravi1\\onedrive\\desktop\\fsds\\env\\lib\\site-packages (from dagshub) (1.6.0)\n",
            "Requirement already satisfied: tenacity~=8.2.2 in c:\\users\\ravi1\\onedrive\\desktop\\fsds\\env\\lib\\site-packages (from dagshub) (8.2.3)\n",
            "Requirement already satisfied: gql[requests] in c:\\users\\ravi1\\onedrive\\desktop\\fsds\\env\\lib\\site-packages (from dagshub) (3.5.0)\n",
            "Requirement already satisfied: dataclasses-json in c:\\users\\ravi1\\onedrive\\desktop\\fsds\\env\\lib\\site-packages (from dagshub) (0.6.7)\n",
            "Requirement already satisfied: pandas in c:\\users\\ravi1\\onedrive\\desktop\\fsds\\env\\lib\\site-packages (from dagshub) (2.2.2)\n",
            "Requirement already satisfied: treelib~=1.6.4 in c:\\users\\ravi1\\onedrive\\desktop\\fsds\\env\\lib\\site-packages (from dagshub) (1.6.4)\n",
            "Requirement already satisfied: pathvalidate~=3.0.0 in c:\\users\\ravi1\\onedrive\\desktop\\fsds\\env\\lib\\site-packages (from dagshub) (3.0.0)\n",
            "Requirement already satisfied: python-dateutil in c:\\users\\ravi1\\onedrive\\desktop\\fsds\\env\\lib\\site-packages (from dagshub) (2.9.0.post0)\n",
            "Requirement already satisfied: boto3 in c:\\users\\ravi1\\onedrive\\desktop\\fsds\\env\\lib\\site-packages (from dagshub) (1.34.158)\n",
            "Requirement already satisfied: colorama in c:\\users\\ravi1\\onedrive\\desktop\\fsds\\env\\lib\\site-packages (from click>=8.0.4->dagshub) (0.4.6)\n",
            "Requirement already satisfied: gitdb<5,>=4.0.1 in c:\\users\\ravi1\\onedrive\\desktop\\fsds\\env\\lib\\site-packages (from GitPython>=3.1.29->dagshub) (4.0.11)\n",
            "Requirement already satisfied: certifi in c:\\users\\ravi1\\onedrive\\desktop\\fsds\\env\\lib\\site-packages (from httpx~=0.23.0->dagshub) (2024.7.4)\n",
            "Requirement already satisfied: httpcore<0.17.0,>=0.15.0 in c:\\users\\ravi1\\onedrive\\desktop\\fsds\\env\\lib\\site-packages (from httpx~=0.23.0->dagshub) (0.16.3)\n",
            "Requirement already satisfied: rfc3986<2,>=1.3 in c:\\users\\ravi1\\onedrive\\desktop\\fsds\\env\\lib\\site-packages (from rfc3986[idna2008]<2,>=1.3->httpx~=0.23.0->dagshub) (1.5.0)\n",
            "Requirement already satisfied: sniffio in c:\\users\\ravi1\\onedrive\\desktop\\fsds\\env\\lib\\site-packages (from httpx~=0.23.0->dagshub) (1.3.1)\n",
            "Requirement already satisfied: commonmark<0.10.0,>=0.9.0 in c:\\users\\ravi1\\onedrive\\desktop\\fsds\\env\\lib\\site-packages (from rich~=13.1.0->dagshub) (0.9.1)\n",
            "Requirement already satisfied: pygments<3.0.0,>=2.6.0 in c:\\users\\ravi1\\onedrive\\desktop\\fsds\\env\\lib\\site-packages (from rich~=13.1.0->dagshub) (2.15.1)\n",
            "Requirement already satisfied: six in c:\\users\\ravi1\\onedrive\\desktop\\fsds\\env\\lib\\site-packages (from treelib~=1.6.4->dagshub) (1.16.0)\n",
            "Requirement already satisfied: botocore<1.35.0,>=1.34.158 in c:\\users\\ravi1\\onedrive\\desktop\\fsds\\env\\lib\\site-packages (from boto3->dagshub) (1.34.158)\n",
            "Requirement already satisfied: jmespath<2.0.0,>=0.7.1 in c:\\users\\ravi1\\onedrive\\desktop\\fsds\\env\\lib\\site-packages (from boto3->dagshub) (1.0.1)\n",
            "Requirement already satisfied: s3transfer<0.11.0,>=0.10.0 in c:\\users\\ravi1\\onedrive\\desktop\\fsds\\env\\lib\\site-packages (from boto3->dagshub) (0.10.2)\n",
            "Requirement already satisfied: marshmallow<4.0.0,>=3.18.0 in c:\\users\\ravi1\\onedrive\\desktop\\fsds\\env\\lib\\site-packages (from dataclasses-json->dagshub) (3.21.3)\n",
            "Requirement already satisfied: typing-inspect<1,>=0.4.0 in c:\\users\\ravi1\\onedrive\\desktop\\fsds\\env\\lib\\site-packages (from dataclasses-json->dagshub) (0.9.0)\n",
            "Requirement already satisfied: graphql-core<3.3,>=3.2 in c:\\users\\ravi1\\onedrive\\desktop\\fsds\\env\\lib\\site-packages (from gql[requests]->dagshub) (3.2.3)\n",
            "Requirement already satisfied: yarl<2.0,>=1.6 in c:\\users\\ravi1\\onedrive\\desktop\\fsds\\env\\lib\\site-packages (from gql[requests]->dagshub) (1.9.4)\n",
            "Requirement already satisfied: backoff<3.0,>=1.11.1 in c:\\users\\ravi1\\onedrive\\desktop\\fsds\\env\\lib\\site-packages (from gql[requests]->dagshub) (2.2.1)\n",
            "Requirement already satisfied: anyio<5,>=3.0 in c:\\users\\ravi1\\onedrive\\desktop\\fsds\\env\\lib\\site-packages (from gql[requests]->dagshub) (4.4.0)\n",
            "Requirement already satisfied: requests<3,>=2.26 in c:\\users\\ravi1\\onedrive\\desktop\\fsds\\env\\lib\\site-packages (from gql[requests]->dagshub) (2.32.3)\n",
            "Requirement already satisfied: requests-toolbelt<2,>=1.0.0 in c:\\users\\ravi1\\onedrive\\desktop\\fsds\\env\\lib\\site-packages (from gql[requests]->dagshub) (1.0.0)\n",
            "Requirement already satisfied: numpy>=1.22.4 in c:\\users\\ravi1\\onedrive\\desktop\\fsds\\env\\lib\\site-packages (from pandas->dagshub) (1.26.4)\n",
            "Requirement already satisfied: pytz>=2020.1 in c:\\users\\ravi1\\onedrive\\desktop\\fsds\\env\\lib\\site-packages (from pandas->dagshub) (2024.1)\n",
            "Requirement already satisfied: tzdata>=2022.7 in c:\\users\\ravi1\\onedrive\\desktop\\fsds\\env\\lib\\site-packages (from pandas->dagshub) (2024.1)\n",
            "Requirement already satisfied: idna>=2.8 in c:\\users\\ravi1\\onedrive\\desktop\\fsds\\env\\lib\\site-packages (from anyio<5,>=3.0->gql[requests]->dagshub) (3.7)\n",
            "Requirement already satisfied: exceptiongroup>=1.0.2 in c:\\users\\ravi1\\onedrive\\desktop\\fsds\\env\\lib\\site-packages (from anyio<5,>=3.0->gql[requests]->dagshub) (1.2.0)\n",
            "Requirement already satisfied: typing-extensions>=4.1 in c:\\users\\ravi1\\onedrive\\desktop\\fsds\\env\\lib\\site-packages (from anyio<5,>=3.0->gql[requests]->dagshub) (4.11.0)\n",
            "Requirement already satisfied: urllib3!=2.2.0,<3,>=1.25.4 in c:\\users\\ravi1\\onedrive\\desktop\\fsds\\env\\lib\\site-packages (from botocore<1.35.0,>=1.34.158->boto3->dagshub) (2.2.2)\n",
            "Requirement already satisfied: smmap<6,>=3.0.1 in c:\\users\\ravi1\\onedrive\\desktop\\fsds\\env\\lib\\site-packages (from gitdb<5,>=4.0.1->GitPython>=3.1.29->dagshub) (5.0.1)\n",
            "Requirement already satisfied: h11<0.15,>=0.13 in c:\\users\\ravi1\\onedrive\\desktop\\fsds\\env\\lib\\site-packages (from httpcore<0.17.0,>=0.15.0->httpx~=0.23.0->dagshub) (0.14.0)\n",
            "Requirement already satisfied: packaging>=17.0 in c:\\users\\ravi1\\onedrive\\desktop\\fsds\\env\\lib\\site-packages (from marshmallow<4.0.0,>=3.18.0->dataclasses-json->dagshub) (24.1)\n",
            "Requirement already satisfied: charset-normalizer<4,>=2 in c:\\users\\ravi1\\onedrive\\desktop\\fsds\\env\\lib\\site-packages (from requests<3,>=2.26->gql[requests]->dagshub) (3.3.2)\n",
            "Requirement already satisfied: mypy-extensions>=0.3.0 in c:\\users\\ravi1\\onedrive\\desktop\\fsds\\env\\lib\\site-packages (from typing-inspect<1,>=0.4.0->dataclasses-json->dagshub) (1.0.0)\n",
            "Requirement already satisfied: multidict>=4.0 in c:\\users\\ravi1\\onedrive\\desktop\\fsds\\env\\lib\\site-packages (from yarl<2.0,>=1.6->gql[requests]->dagshub) (6.0.5)\n"
          ]
        }
      ],
      "source": [
        "!pip3 install dagshub --upgrade"
      ]
    },
    {
      "cell_type": "code",
      "execution_count": 4,
      "metadata": {},
      "outputs": [
        {
          "ename": "SyntaxError",
          "evalue": "invalid syntax (1974612182.py, line 1)",
          "output_type": "error",
          "traceback": [
            "\u001b[1;36m  Cell \u001b[1;32mIn[4], line 1\u001b[1;36m\u001b[0m\n\u001b[1;33m    dagshub  login\u001b[0m\n\u001b[1;37m             ^\u001b[0m\n\u001b[1;31mSyntaxError\u001b[0m\u001b[1;31m:\u001b[0m invalid syntax\n"
          ]
        }
      ],
      "source": [
        "dagshub  login"
      ]
    },
    {
      "cell_type": "code",
      "execution_count": 6,
      "metadata": {},
      "outputs": [
        {
          "data": {
            "text/html": [
              "<pre style=\"white-space:pre;overflow-x:auto;line-height:normal;font-family:Menlo,'DejaVu Sans Mono',consolas,'Courier New',monospace\">Accessing as rs1806105\n",
              "</pre>\n"
            ],
            "text/plain": [
              "Accessing as rs1806105\n"
            ]
          },
          "metadata": {},
          "output_type": "display_data"
        },
        {
          "data": {
            "text/html": [
              "<pre style=\"white-space:pre;overflow-x:auto;line-height:normal;font-family:Menlo,'DejaVu Sans Mono',consolas,'Courier New',monospace\">Client created. Use the name of the repo <span style=\"font-weight: bold\">(</span>fsds<span style=\"font-weight: bold\">)</span> as the name of the bucket\n",
              "</pre>\n"
            ],
            "text/plain": [
              "Client created. Use the name of the repo \u001b[1m(\u001b[0mfsds\u001b[1m)\u001b[0m as the name of the bucket\n"
            ]
          },
          "metadata": {},
          "output_type": "display_data"
        }
      ],
      "source": [
        "from dagshub import get_repo_bucket_client\n",
        "# Get a boto3.client object\n",
        "s3 = get_repo_bucket_client(\"rs1806105/fsds\")\n",
        "\n",
        "# Upload file\n",
        "s3.upload_file(\n",
        "    Bucket=\"fsds\",  # name of the repo\n",
        "    Filename=r\"C:\\Users\\ravi1\\OneDrive\\Desktop\\fsds\\artifacts\\model.pkl\",  # local path of file to upload\n",
        "    Key=r\"https://github.com/Ravi62026/fsds/blob/6aecea26ca482290c8a08921d373d270bba079ea/artifacts/model.pkl\",  # remote path where to upload the file\n",
        ")\n",
        "# Download fil"
      ]
    },
    {
      "cell_type": "code",
      "execution_count": 7,
      "metadata": {},
      "outputs": [],
      "source": [
        "import os\n",
        "import sys\n",
        "from sklearn.metrics import mean_squared_error, mean_absolute_error, r2_score\n",
        "from urllib.parse import urlparse\n",
        "import mlflow\n",
        "import mlflow.sklearn\n",
        "import numpy as np\n",
        "import pickle\n",
        "from src.DiamondPricePrediction.utils.utils import load_object\n",
        "\n",
        "\n",
        "import dagshub\n",
        "\n"
      ]
    },
    {
      "cell_type": "code",
      "execution_count": 8,
      "metadata": {},
      "outputs": [
        {
          "data": {
            "text/html": [
              "<pre style=\"white-space:pre;overflow-x:auto;line-height:normal;font-family:Menlo,'DejaVu Sans Mono',consolas,'Courier New',monospace\">Initialized MLflow to track repo <span style=\"color: #008000; text-decoration-color: #008000\">\"rs1806105/fsds\"</span>\n",
              "</pre>\n"
            ],
            "text/plain": [
              "Initialized MLflow to track repo \u001b[32m\"rs1806105/fsds\"\u001b[0m\n"
            ]
          },
          "metadata": {},
          "output_type": "display_data"
        },
        {
          "data": {
            "text/html": [
              "<pre style=\"white-space:pre;overflow-x:auto;line-height:normal;font-family:Menlo,'DejaVu Sans Mono',consolas,'Courier New',monospace\">Repository rs1806105/fsds initialized!\n",
              "</pre>\n"
            ],
            "text/plain": [
              "Repository rs1806105/fsds initialized!\n"
            ]
          },
          "metadata": {},
          "output_type": "display_data"
        }
      ],
      "source": [
        "dagshub.init(repo_owner='rs1806105', repo_name='fsds', mlflow=True)"
      ]
    },
    {
      "cell_type": "code",
      "execution_count": 9,
      "metadata": {},
      "outputs": [
        {
          "name": "stdout",
          "output_type": "stream",
          "text": [
            "ALLUSERSPROFILE: C:\\ProgramData\n",
            "APPDATA: C:\\Users\\ravi1\\AppData\\Roaming\n",
            "APPLICATION_INSIGHTS_NO_DIAGNOSTIC_CHANNEL: 1\n",
            "CHROME_CRASHPAD_PIPE_NAME: \\\\.\\pipe\\crashpad_30456_UYYGNPRWNNXTEMJY\n",
            "COMMONPROGRAMFILES: C:\\Program Files\\Common Files\n",
            "COMMONPROGRAMFILES(X86): C:\\Program Files (x86)\\Common Files\n",
            "COMMONPROGRAMW6432: C:\\Program Files\\Common Files\n",
            "COMPUTERNAME: RAVI\n",
            "COMSPEC: C:\\WINDOWS\\system32\\cmd.exe\n",
            "CONDA_DEFAULT_ENV: C:\\Users\\ravi1\\OneDrive\\Desktop\\fsds\\env\n",
            "CONDA_EXE: C:\\Users\\ravi1\\anaconda3\\Scripts\\conda.exe\n",
            "CONDA_EXES: \"C:\\Users\\ravi1\\anaconda3\\condabin\\..\\Scripts\\conda.exe\"  \n",
            "CONDA_PREFIX: C:\\Users\\ravi1\\OneDrive\\Desktop\\fsds\\env\n",
            "CONDA_PREFIX_1: C:\\Users\\ravi1\\anaconda3\n",
            "CONDA_PROMPT_MODIFIER: (C:\\Users\\ravi1\\OneDrive\\Desktop\\fsds\\env) \n",
            "CONDA_PYTHON_EXE: C:\\Users\\ravi1\\anaconda3\\python.exe\n",
            "CONDA_ROOT: C:\\Users\\ravi1\\anaconda3\n",
            "CONDA_SHLVL: 2\n",
            "DRIVERDATA: C:\\Windows\\System32\\Drivers\\DriverData\n",
            "EFC_22168: 1\n",
            "ELECTRON_NO_ATTACH_CONSOLE: 1\n",
            "ELECTRON_RUN_AS_NODE: 1\n",
            "HOMEDRIVE: C:\n",
            "HOMEPATH: \\Users\\ravi1\n",
            "IGCCSVC_DB: AQAAANCMnd8BFdERjHoAwE/Cl+sBAAAAxLcequgbb0mc07OfP8DCrAQAAAACAAAAAAAQZgAAAAEAACAAAABCBGnM2gGzRZe9v2S82RJs0Up7zieLKO8dZnPL2EEzlAAAAAAOgAAAAAIAACAAAADxrUeooZMxQ2pnCiOo5jHOjZaJKkILEgHi2Rx8dT2KNGAAAAD8aLg33MpxjnUINEnd4+hNbK4N5Lqc5oDVHB6VLWLiqOWdlM6EBT56pN+b81iHbiVzQNf5eK1/3FPvQ1k2vpY82U/NPlHaROi/Buwt6hkrQvnPO94BsOHOXtcpcDHE1iRAAAAAgAeMgADJdfUolXA7Cgxufq3aonxQg7+VTtlmNh2xLD49rH2Lkm4QfX0dEvrTY5lTs+TdYN+KbRYoa06iqkcayg==\n",
            "JPY_INTERRUPT_EVENT: 1684\n",
            "LOCALAPPDATA: C:\\Users\\ravi1\\AppData\\Local\n",
            "LOGONSERVER: \\\\RAVI\n",
            "NUMBER_OF_PROCESSORS: 12\n",
            "ONEDRIVE: C:\\Users\\ravi1\\OneDrive\n",
            "ONEDRIVECONSUMER: C:\\Users\\ravi1\\OneDrive\n",
            "ORIGINAL_XDG_CURRENT_DESKTOP: undefined\n",
            "OS: Windows_NT\n",
            "PATH: c:\\Users\\ravi1\\OneDrive\\Desktop\\fsds\\env;C:\\Users\\ravi1\\OneDrive\\Desktop\\fsds\\env;C:\\Users\\ravi1\\OneDrive\\Desktop\\fsds\\env\\Library\\mingw-w64\\bin;C:\\Users\\ravi1\\OneDrive\\Desktop\\fsds\\env\\Library\\usr\\bin;C:\\Users\\ravi1\\OneDrive\\Desktop\\fsds\\env\\Library\\bin;C:\\Users\\ravi1\\OneDrive\\Desktop\\fsds\\env\\Scripts;C:\\Users\\ravi1\\OneDrive\\Desktop\\fsds\\env\\bin;C:\\Users\\ravi1\\anaconda3\\condabin;C:\\WINDOWS\\system32;C:\\WINDOWS;C:\\WINDOWS\\System32\\Wbem;C:\\WINDOWS\\System32\\WindowsPowerShell\\v1.0;C:\\WINDOWS\\System32\\OpenSSH;C:\\Program Files\\dotnet;C:\\Program Files\\nodejs;C:\\MinGW\\bin;C:\\MinGW\\bin;C:\\Program Files\\Git\\cmd;C:\\Program Files\\Docker\\Docker\\resources\\bin;C:\\Users\\ravi1\\AppData\\Local\\Microsoft\\WindowsApps;C:\\Users\\ravi1\\AppData\\Local\\Programs\\Microsoft VS Code\\bin;C:\\Users\\ravi1\\AppData\\Roaming\\npm;C:\\Users\\ravi1\\AppData\\Local\\Programs\\Ollama\n",
            "PATHEXT: .COM;.EXE;.BAT;.CMD;.VBS;.VBE;.JS;.JSE;.WSF;.WSH;.MSC\n",
            "PROCESSOR_ARCHITECTURE: AMD64\n",
            "PROCESSOR_IDENTIFIER: Intel64 Family 6 Model 154 Stepping 4, GenuineIntel\n",
            "PROCESSOR_LEVEL: 6\n",
            "PROCESSOR_REVISION: 9a04\n",
            "PROGRAMDATA: C:\\ProgramData\n",
            "PROGRAMFILES: C:\\Program Files\n",
            "PROGRAMFILES(X86): C:\\Program Files (x86)\n",
            "PROGRAMW6432: C:\\Program Files\n",
            "PROMPT: (C:\\Users\\ravi1\\OneDrive\\Desktop\\fsds\\env) $P$G\n",
            "PSMODULEPATH: C:\\Program Files\\WindowsPowerShell\\Modules;C:\\WINDOWS\\system32\\WindowsPowerShell\\v1.0\\Modules\n",
            "PUBLIC: C:\\Users\\Public\n",
            "PYDEVD_IPYTHON_COMPATIBLE_DEBUGGING: 1\n",
            "PYTHONIOENCODING: utf-8\n",
            "PYTHONUNBUFFERED: 1\n",
            "PYTHONUTF8: 1\n",
            "PYTHON_FROZEN_MODULES: on\n",
            "SESSIONNAME: Console\n",
            "SSL_CERT_FILE: C:\\Users\\ravi1\\anaconda3\\Library\\ssl\\cacert.pem\n",
            "SYSTEMDRIVE: C:\n",
            "SYSTEMROOT: C:\\WINDOWS\n",
            "TEMP: C:\\Users\\ravi1\\AppData\\Local\\Temp\n",
            "TMP: C:\\Users\\ravi1\\AppData\\Local\\Temp\n",
            "USERDOMAIN: RAVI\n",
            "USERDOMAIN_ROAMINGPROFILE: RAVI\n",
            "USERNAME: ravi1\n",
            "USERPROFILE: C:\\Users\\ravi1\n",
            "VSCODE_AMD_ENTRYPOINT: vs/workbench/api/node/extensionHostProcess\n",
            "VSCODE_CLI: 1\n",
            "VSCODE_CODE_CACHE_PATH: C:\\Users\\ravi1\\AppData\\Roaming\\Code\\CachedData\\eaa41d57266683296de7d118f574d0c2652e1fc4\n",
            "VSCODE_CRASH_REPORTER_PROCESS_TYPE: extensionHost\n",
            "VSCODE_CWD: C:\\Users\\ravi1\\OneDrive\\Desktop\\dvc\n",
            "VSCODE_HANDLES_UNCAUGHT_ERRORS: true\n",
            "VSCODE_IPC_HOOK: \\\\.\\pipe\\7d30595f-1.92.1-main-sock\n",
            "VSCODE_NLS_CONFIG: {\"userLocale\":\"en-us\",\"osLocale\":\"en-in\",\"resolvedLanguage\":\"en\",\"defaultMessagesFile\":\"C:\\\\Users\\\\ravi1\\\\AppData\\\\Local\\\\Programs\\\\Microsoft VS Code\\\\resources\\\\app\\\\out\\\\nls.messages.json\",\"locale\":\"en\",\"availableLanguages\":{}}\n",
            "VSCODE_PID: 30456\n",
            "WINDIR: C:\\WINDOWS\n",
            "ZES_ENABLE_SYSMAN: 1\n",
            "_CONDA_OLD_CHCP: 437\n",
            "__CONDA_OPENSLL_CERT_FILE_SET: \"1\"\n",
            "PYDEVD_USE_FRAME_EVAL: NO\n",
            "TERM: xterm-color\n",
            "CLICOLOR: 1\n",
            "FORCE_COLOR: 1\n",
            "CLICOLOR_FORCE: 1\n",
            "PAGER: cat\n",
            "GIT_PAGER: cat\n",
            "MPLBACKEND: module://matplotlib_inline.backend_inline\n",
            "KMP_DUPLICATE_LIB_OK: True\n",
            "KMP_INIT_AT_FORK: FALSE\n",
            "MLFLOW_TRACKING_URI: https://dagshub.com/rs1806105/fsds.mlflow\n",
            "MLFLOW_TRACKING_USERNAME: 46c8605b7155b7140215c1c01d0a1523bf3aba24\n",
            "MLFLOW_TRACKING_PASSWORD: 46c8605b7155b7140215c1c01d0a1523bf3aba24\n"
          ]
        }
      ],
      "source": [
        "import os\n",
        "env_vars = os.environ\n",
        "for key, value in env_vars.items():\n",
        "    print(f\"{key}: {value}\")\n"
      ]
    },
    {
      "cell_type": "code",
      "execution_count": 10,
      "metadata": {},
      "outputs": [
        {
          "name": "stdout",
          "output_type": "stream",
          "text": [
            "MLFLOW_TRACKING_URI after removal: None\n",
            "MLFLOW_TRACKING_USERNAME after removal: None\n",
            "MLFLOW_TRACKING_PASSWORD after removal: None\n"
          ]
        }
      ],
      "source": [
        "import os\n",
        "\n",
        "# List of environment variables to remove\n",
        "variables_to_remove = [\n",
        "    'MLFLOW_TRACKING_URI',\n",
        "    'MLFLOW_TRACKING_USERNAME',\n",
        "    'MLFLOW_TRACKING_PASSWORD'\n",
        "]\n",
        "\n",
        "# Remove each environment variable\n",
        "for variable in variables_to_remove:\n",
        "    os.environ.pop(variable, None)\n",
        "\n",
        "# Verify that the variables are removed\n",
        "for variable in variables_to_remove:\n",
        "    print(f\"{variable} after removal: {os.getenv(variable)}\")\n"
      ]
    },
    {
      "cell_type": "code",
      "execution_count": 11,
      "metadata": {},
      "outputs": [
        {
          "name": "stdout",
          "output_type": "stream",
          "text": [
            "ALLUSERSPROFILE: C:\\ProgramData\n",
            "APPDATA: C:\\Users\\ravi1\\AppData\\Roaming\n",
            "APPLICATION_INSIGHTS_NO_DIAGNOSTIC_CHANNEL: 1\n",
            "CHROME_CRASHPAD_PIPE_NAME: \\\\.\\pipe\\crashpad_30456_UYYGNPRWNNXTEMJY\n",
            "COMMONPROGRAMFILES: C:\\Program Files\\Common Files\n",
            "COMMONPROGRAMFILES(X86): C:\\Program Files (x86)\\Common Files\n",
            "COMMONPROGRAMW6432: C:\\Program Files\\Common Files\n",
            "COMPUTERNAME: RAVI\n",
            "COMSPEC: C:\\WINDOWS\\system32\\cmd.exe\n",
            "CONDA_DEFAULT_ENV: C:\\Users\\ravi1\\OneDrive\\Desktop\\fsds\\env\n",
            "CONDA_EXE: C:\\Users\\ravi1\\anaconda3\\Scripts\\conda.exe\n",
            "CONDA_EXES: \"C:\\Users\\ravi1\\anaconda3\\condabin\\..\\Scripts\\conda.exe\"  \n",
            "CONDA_PREFIX: C:\\Users\\ravi1\\OneDrive\\Desktop\\fsds\\env\n",
            "CONDA_PREFIX_1: C:\\Users\\ravi1\\anaconda3\n",
            "CONDA_PROMPT_MODIFIER: (C:\\Users\\ravi1\\OneDrive\\Desktop\\fsds\\env) \n",
            "CONDA_PYTHON_EXE: C:\\Users\\ravi1\\anaconda3\\python.exe\n",
            "CONDA_ROOT: C:\\Users\\ravi1\\anaconda3\n",
            "CONDA_SHLVL: 2\n",
            "DRIVERDATA: C:\\Windows\\System32\\Drivers\\DriverData\n",
            "EFC_22168: 1\n",
            "ELECTRON_NO_ATTACH_CONSOLE: 1\n",
            "ELECTRON_RUN_AS_NODE: 1\n",
            "HOMEDRIVE: C:\n",
            "HOMEPATH: \\Users\\ravi1\n",
            "IGCCSVC_DB: AQAAANCMnd8BFdERjHoAwE/Cl+sBAAAAxLcequgbb0mc07OfP8DCrAQAAAACAAAAAAAQZgAAAAEAACAAAABCBGnM2gGzRZe9v2S82RJs0Up7zieLKO8dZnPL2EEzlAAAAAAOgAAAAAIAACAAAADxrUeooZMxQ2pnCiOo5jHOjZaJKkILEgHi2Rx8dT2KNGAAAAD8aLg33MpxjnUINEnd4+hNbK4N5Lqc5oDVHB6VLWLiqOWdlM6EBT56pN+b81iHbiVzQNf5eK1/3FPvQ1k2vpY82U/NPlHaROi/Buwt6hkrQvnPO94BsOHOXtcpcDHE1iRAAAAAgAeMgADJdfUolXA7Cgxufq3aonxQg7+VTtlmNh2xLD49rH2Lkm4QfX0dEvrTY5lTs+TdYN+KbRYoa06iqkcayg==\n",
            "JPY_INTERRUPT_EVENT: 1684\n",
            "LOCALAPPDATA: C:\\Users\\ravi1\\AppData\\Local\n",
            "LOGONSERVER: \\\\RAVI\n",
            "NUMBER_OF_PROCESSORS: 12\n",
            "ONEDRIVE: C:\\Users\\ravi1\\OneDrive\n",
            "ONEDRIVECONSUMER: C:\\Users\\ravi1\\OneDrive\n",
            "ORIGINAL_XDG_CURRENT_DESKTOP: undefined\n",
            "OS: Windows_NT\n",
            "PATH: c:\\Users\\ravi1\\OneDrive\\Desktop\\fsds\\env;C:\\Users\\ravi1\\OneDrive\\Desktop\\fsds\\env;C:\\Users\\ravi1\\OneDrive\\Desktop\\fsds\\env\\Library\\mingw-w64\\bin;C:\\Users\\ravi1\\OneDrive\\Desktop\\fsds\\env\\Library\\usr\\bin;C:\\Users\\ravi1\\OneDrive\\Desktop\\fsds\\env\\Library\\bin;C:\\Users\\ravi1\\OneDrive\\Desktop\\fsds\\env\\Scripts;C:\\Users\\ravi1\\OneDrive\\Desktop\\fsds\\env\\bin;C:\\Users\\ravi1\\anaconda3\\condabin;C:\\WINDOWS\\system32;C:\\WINDOWS;C:\\WINDOWS\\System32\\Wbem;C:\\WINDOWS\\System32\\WindowsPowerShell\\v1.0;C:\\WINDOWS\\System32\\OpenSSH;C:\\Program Files\\dotnet;C:\\Program Files\\nodejs;C:\\MinGW\\bin;C:\\MinGW\\bin;C:\\Program Files\\Git\\cmd;C:\\Program Files\\Docker\\Docker\\resources\\bin;C:\\Users\\ravi1\\AppData\\Local\\Microsoft\\WindowsApps;C:\\Users\\ravi1\\AppData\\Local\\Programs\\Microsoft VS Code\\bin;C:\\Users\\ravi1\\AppData\\Roaming\\npm;C:\\Users\\ravi1\\AppData\\Local\\Programs\\Ollama\n",
            "PATHEXT: .COM;.EXE;.BAT;.CMD;.VBS;.VBE;.JS;.JSE;.WSF;.WSH;.MSC\n",
            "PROCESSOR_ARCHITECTURE: AMD64\n",
            "PROCESSOR_IDENTIFIER: Intel64 Family 6 Model 154 Stepping 4, GenuineIntel\n",
            "PROCESSOR_LEVEL: 6\n",
            "PROCESSOR_REVISION: 9a04\n",
            "PROGRAMDATA: C:\\ProgramData\n",
            "PROGRAMFILES: C:\\Program Files\n",
            "PROGRAMFILES(X86): C:\\Program Files (x86)\n",
            "PROGRAMW6432: C:\\Program Files\n",
            "PROMPT: (C:\\Users\\ravi1\\OneDrive\\Desktop\\fsds\\env) $P$G\n",
            "PSMODULEPATH: C:\\Program Files\\WindowsPowerShell\\Modules;C:\\WINDOWS\\system32\\WindowsPowerShell\\v1.0\\Modules\n",
            "PUBLIC: C:\\Users\\Public\n",
            "PYDEVD_IPYTHON_COMPATIBLE_DEBUGGING: 1\n",
            "PYTHONIOENCODING: utf-8\n",
            "PYTHONUNBUFFERED: 1\n",
            "PYTHONUTF8: 1\n",
            "PYTHON_FROZEN_MODULES: on\n",
            "SESSIONNAME: Console\n",
            "SSL_CERT_FILE: C:\\Users\\ravi1\\anaconda3\\Library\\ssl\\cacert.pem\n",
            "SYSTEMDRIVE: C:\n",
            "SYSTEMROOT: C:\\WINDOWS\n",
            "TEMP: C:\\Users\\ravi1\\AppData\\Local\\Temp\n",
            "TMP: C:\\Users\\ravi1\\AppData\\Local\\Temp\n",
            "USERDOMAIN: RAVI\n",
            "USERDOMAIN_ROAMINGPROFILE: RAVI\n",
            "USERNAME: ravi1\n",
            "USERPROFILE: C:\\Users\\ravi1\n",
            "VSCODE_AMD_ENTRYPOINT: vs/workbench/api/node/extensionHostProcess\n",
            "VSCODE_CLI: 1\n",
            "VSCODE_CODE_CACHE_PATH: C:\\Users\\ravi1\\AppData\\Roaming\\Code\\CachedData\\eaa41d57266683296de7d118f574d0c2652e1fc4\n",
            "VSCODE_CRASH_REPORTER_PROCESS_TYPE: extensionHost\n",
            "VSCODE_CWD: C:\\Users\\ravi1\\OneDrive\\Desktop\\dvc\n",
            "VSCODE_HANDLES_UNCAUGHT_ERRORS: true\n",
            "VSCODE_IPC_HOOK: \\\\.\\pipe\\7d30595f-1.92.1-main-sock\n",
            "VSCODE_NLS_CONFIG: {\"userLocale\":\"en-us\",\"osLocale\":\"en-in\",\"resolvedLanguage\":\"en\",\"defaultMessagesFile\":\"C:\\\\Users\\\\ravi1\\\\AppData\\\\Local\\\\Programs\\\\Microsoft VS Code\\\\resources\\\\app\\\\out\\\\nls.messages.json\",\"locale\":\"en\",\"availableLanguages\":{}}\n",
            "VSCODE_PID: 30456\n",
            "WINDIR: C:\\WINDOWS\n",
            "ZES_ENABLE_SYSMAN: 1\n",
            "_CONDA_OLD_CHCP: 437\n",
            "__CONDA_OPENSLL_CERT_FILE_SET: \"1\"\n",
            "PYDEVD_USE_FRAME_EVAL: NO\n",
            "TERM: xterm-color\n",
            "CLICOLOR: 1\n",
            "FORCE_COLOR: 1\n",
            "CLICOLOR_FORCE: 1\n",
            "PAGER: cat\n",
            "GIT_PAGER: cat\n",
            "MPLBACKEND: module://matplotlib_inline.backend_inline\n",
            "KMP_DUPLICATE_LIB_OK: True\n",
            "KMP_INIT_AT_FORK: FALSE\n"
          ]
        }
      ],
      "source": [
        "import os\n",
        "env_vars = os.environ\n",
        "for key, value in env_vars.items():\n",
        "    print(f\"{key}: {value}\")"
      ]
    },
    {
      "cell_type": "code",
      "execution_count": null,
      "metadata": {},
      "outputs": [],
      "source": []
    }
  ],
  "metadata": {
    "accelerator": "GPU",
    "colab": {
      "gpuType": "T4",
      "provenance": []
    },
    "kernelspec": {
      "display_name": "Python 3",
      "name": "python3"
    },
    "language_info": {
      "codemirror_mode": {
        "name": "ipython",
        "version": 3
      },
      "file_extension": ".py",
      "mimetype": "text/x-python",
      "name": "python",
      "nbconvert_exporter": "python",
      "pygments_lexer": "ipython3",
      "version": "3.10.14"
    }
  },
  "nbformat": 4,
  "nbformat_minor": 0
}
